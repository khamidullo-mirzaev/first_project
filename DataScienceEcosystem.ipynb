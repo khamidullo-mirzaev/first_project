{
 "cells": [
  {
   "cell_type": "markdown",
   "id": "d96e37b2",
   "metadata": {},
   "source": [
    "# Data Science Tools and Ecosystem"
   ]
  },
  {
   "cell_type": "markdown",
   "id": "e0c51ea4",
   "metadata": {},
   "source": [
    "In this notebook, Data Science Tools and Ecosystem are summarized."
   ]
  },
  {
   "cell_type": "markdown",
   "id": "1a4ab40e",
   "metadata": {},
   "source": [
    "**Objectives:**\n",
    " - Popular languages that Data Scientists\n",
    " - Commonly used libraries used by Data Scientists\n",
    " - Data Science Tools\n",
    " - Arithmetic expressions in Python"
   ]
  },
  {
   "cell_type": "markdown",
   "id": "1ec04d75",
   "metadata": {},
   "source": [
    "**Some of the popular languages that Data Scientists use are:**\n",
    "1. **Python:** Widely used for data analysis, machine learning, and scientific computing. Popular libraries include NumPy, Pandas, Matplotlib, and scikit-learn.\n",
    "\n",
    "2. **R:** A language and environment for statistical computing and graphics. R is commonly used for statistical analysis and visualization.\n",
    "\n",
    "3. **SQL (Structured Query Language):** Essential for managing and querying databases. SQL is used for extracting, transforming, and analyzing data stored in relational databases.\n",
    "\n",
    "4. **Julia:** A high-performance language for technical computing, suitable for numerical and scientific computing.\n",
    "\n",
    "5. **Scala:** Known for its compatibility with Apache Spark, Scala is used for distributed data processing and analysis.\n",
    "\n",
    "6. **Java:** While not exclusive to data science, Java is used in big data processing frameworks like Apache Hadoop.\n",
    "\n",
    "7. **MATLAB:** Widely used in academia and industry for numerical computing, data analysis, and machine learning.\n",
    "\n",
    "8. **SAS:** A statistical software suite used for advanced analytics, business intelligence, and data management.\n",
    "\n",
    "9. **Julia:** A language designed for high-performance numerical and scientific computing.\n",
    "\n",
    "10. **Go (Golang):** Growing in popularity for data engineering tasks due to its performance and simplicity."
   ]
  },
  {
   "cell_type": "markdown",
   "id": "95085a30",
   "metadata": {},
   "source": [
    "**Some of the commonly used libraries used by Data Scientists include:**\n",
    "1. **NumPy:** Fundamental package for scientific computing with support for large, multi-dimensional arrays and matrices.\n",
    "\n",
    "2. **Pandas:** Data manipulation and analysis library, providing data structures like DataFrames for efficient data handling.\n",
    "\n",
    "3. **Matplotlib:** Comprehensive 2D plotting library for creating static, animated, and interactive visualizations in Python.\n",
    "\n",
    "4. **Seaborn:** Built on top of Matplotlib, Seaborn provides a high-level interface for statistical data visualization.\n",
    "\n",
    "5. **Scikit-learn:** Simple and efficient tools for data mining and data analysis, particularly for machine learning tasks.\n",
    "\n",
    "6. **TensorFlow:** Open-source machine learning framework developed by Google, widely used for deep learning applications.\n",
    "\n",
    "7. **PyTorch:** An open-source machine learning library developed by Facebook, known for its dynamic computational graph.\n",
    "\n",
    "8. **Keras:** High-level neural networks API, running on top of TensorFlow or Theano, designed for fast experimentation with deep neural networks."
   ]
  },
  {
   "cell_type": "markdown",
   "id": "277b7d83",
   "metadata": {},
   "source": [
    "## Data Science Tools\n",
    "\n",
    "| Data Science Tools  |\n",
    "| ------------------- |\n",
    "| Jupyter Notebooks   |\n",
    "| RStudio             |\n",
    "| Apache Zeppelin     |\n"
   ]
  },
  {
   "cell_type": "markdown",
   "id": "6dbbdaaa",
   "metadata": {},
   "source": [
    "### Below are a few examples of evaluating arithmetic expressions in Python"
   ]
  },
  {
   "cell_type": "code",
   "execution_count": 1,
   "id": "cd9a52bf",
   "metadata": {},
   "outputs": [
    {
     "name": "stdout",
     "output_type": "stream",
     "text": [
      "17\n"
     ]
    }
   ],
   "source": [
    "# This a simple arithmetic expression to mutiply then add integers\n",
    "\n",
    "print((3*4)+5)"
   ]
  },
  {
   "cell_type": "code",
   "execution_count": 9,
   "id": "f2a53476",
   "metadata": {},
   "outputs": [
    {
     "name": "stdout",
     "output_type": "stream",
     "text": [
      "200\n",
      "200 is 3 hours 20 minutes\n"
     ]
    }
   ],
   "source": [
    "# This will convert 200 minutes to hours by diving by 60\n",
    "\n",
    "time = int(input())\n",
    "hours = int(time / 60)\n",
    "minutes = time % 60\n",
    "print(\"{} is {} hours {} minutes\".format(time, hours, minutes))"
   ]
  },
  {
   "cell_type": "markdown",
   "id": "7e6533a6",
   "metadata": {},
   "source": [
    "## Author"
   ]
  },
  {
   "cell_type": "markdown",
   "id": "60125a3a",
   "metadata": {},
   "source": [
    "KHAMIDULLO MIRZAEV"
   ]
  }
 ],
 "metadata": {
  "kernelspec": {
   "display_name": "Python 3 (ipykernel)",
   "language": "python",
   "name": "python3"
  },
  "language_info": {
   "codemirror_mode": {
    "name": "ipython",
    "version": 3
   },
   "file_extension": ".py",
   "mimetype": "text/x-python",
   "name": "python",
   "nbconvert_exporter": "python",
   "pygments_lexer": "ipython3",
   "version": "3.11.4"
  }
 },
 "nbformat": 4,
 "nbformat_minor": 5
}
